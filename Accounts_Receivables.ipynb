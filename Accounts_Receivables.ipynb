{
  "nbformat": 4,
  "nbformat_minor": 0,
  "metadata": {
    "colab": {
      "provenance": [],
      "authorship_tag": "ABX9TyPucAIo2dF7xLxViAR7yImE",
      "include_colab_link": true
    },
    "kernelspec": {
      "name": "python3",
      "display_name": "Python 3"
    },
    "language_info": {
      "name": "python"
    }
  },
  "cells": [
    {
      "cell_type": "markdown",
      "metadata": {
        "id": "view-in-github",
        "colab_type": "text"
      },
      "source": [
        "<a href=\"https://colab.research.google.com/github/Wairioko/Accounts-Receivables/blob/main/Accounts_Receivables.ipynb\" target=\"_parent\"><img src=\"https://colab.research.google.com/assets/colab-badge.svg\" alt=\"Open In Colab\"/></a>"
      ]
    },
    {
      "cell_type": "code",
      "source": [
        "import pandas as pd\n",
        "import matplotlib.pyplot as plt\n",
        "from sklearn.model_selection import cross_val_score\n",
        "from sklearn.linear_model import LinearRegression\n",
        "from sklearn.model_selection import train_test_split\n",
        "from sklearn.metrics import mean_squared_error, mean_absolute_error, r2_score\n",
        "from sklearn.model_selection import GridSearchCV"
      ],
      "metadata": {
        "id": "u2pufqt1vhzO"
      },
      "execution_count": 78,
      "outputs": []
    },
    {
      "cell_type": "code",
      "execution_count": 81,
      "metadata": {
        "colab": {
          "base_uri": "https://localhost:8080/",
          "height": 300
        },
        "id": "mUjdwrMvtRgn",
        "outputId": "f1f1e02c-0e2e-45d6-9e06-4927416d5cdc"
      },
      "outputs": [
        {
          "output_type": "execute_result",
          "data": {
            "text/plain": [
              "       InvoiceAmount  DaysToSettle     DaysLate\n",
              "count    2466.000000    2466.00000  2466.000000\n",
              "mean       59.895856      26.44485     3.442417\n",
              "std        20.435838      12.33493     6.290607\n",
              "min         5.260000       0.00000     0.000000\n",
              "25%        46.400000      18.00000     0.000000\n",
              "50%        60.560000      26.00000     0.000000\n",
              "75%        73.765000      35.00000     5.000000\n",
              "max       128.280000      75.00000    45.000000"
            ],
            "text/html": [
              "\n",
              "  <div id=\"df-a354d255-ffa2-407c-a6bf-9290347fabce\">\n",
              "    <div class=\"colab-df-container\">\n",
              "      <div>\n",
              "<style scoped>\n",
              "    .dataframe tbody tr th:only-of-type {\n",
              "        vertical-align: middle;\n",
              "    }\n",
              "\n",
              "    .dataframe tbody tr th {\n",
              "        vertical-align: top;\n",
              "    }\n",
              "\n",
              "    .dataframe thead th {\n",
              "        text-align: right;\n",
              "    }\n",
              "</style>\n",
              "<table border=\"1\" class=\"dataframe\">\n",
              "  <thead>\n",
              "    <tr style=\"text-align: right;\">\n",
              "      <th></th>\n",
              "      <th>InvoiceAmount</th>\n",
              "      <th>DaysToSettle</th>\n",
              "      <th>DaysLate</th>\n",
              "    </tr>\n",
              "  </thead>\n",
              "  <tbody>\n",
              "    <tr>\n",
              "      <th>count</th>\n",
              "      <td>2466.000000</td>\n",
              "      <td>2466.00000</td>\n",
              "      <td>2466.000000</td>\n",
              "    </tr>\n",
              "    <tr>\n",
              "      <th>mean</th>\n",
              "      <td>59.895856</td>\n",
              "      <td>26.44485</td>\n",
              "      <td>3.442417</td>\n",
              "    </tr>\n",
              "    <tr>\n",
              "      <th>std</th>\n",
              "      <td>20.435838</td>\n",
              "      <td>12.33493</td>\n",
              "      <td>6.290607</td>\n",
              "    </tr>\n",
              "    <tr>\n",
              "      <th>min</th>\n",
              "      <td>5.260000</td>\n",
              "      <td>0.00000</td>\n",
              "      <td>0.000000</td>\n",
              "    </tr>\n",
              "    <tr>\n",
              "      <th>25%</th>\n",
              "      <td>46.400000</td>\n",
              "      <td>18.00000</td>\n",
              "      <td>0.000000</td>\n",
              "    </tr>\n",
              "    <tr>\n",
              "      <th>50%</th>\n",
              "      <td>60.560000</td>\n",
              "      <td>26.00000</td>\n",
              "      <td>0.000000</td>\n",
              "    </tr>\n",
              "    <tr>\n",
              "      <th>75%</th>\n",
              "      <td>73.765000</td>\n",
              "      <td>35.00000</td>\n",
              "      <td>5.000000</td>\n",
              "    </tr>\n",
              "    <tr>\n",
              "      <th>max</th>\n",
              "      <td>128.280000</td>\n",
              "      <td>75.00000</td>\n",
              "      <td>45.000000</td>\n",
              "    </tr>\n",
              "  </tbody>\n",
              "</table>\n",
              "</div>\n",
              "      <button class=\"colab-df-convert\" onclick=\"convertToInteractive('df-a354d255-ffa2-407c-a6bf-9290347fabce')\"\n",
              "              title=\"Convert this dataframe to an interactive table.\"\n",
              "              style=\"display:none;\">\n",
              "        \n",
              "  <svg xmlns=\"http://www.w3.org/2000/svg\" height=\"24px\"viewBox=\"0 0 24 24\"\n",
              "       width=\"24px\">\n",
              "    <path d=\"M0 0h24v24H0V0z\" fill=\"none\"/>\n",
              "    <path d=\"M18.56 5.44l.94 2.06.94-2.06 2.06-.94-2.06-.94-.94-2.06-.94 2.06-2.06.94zm-11 1L8.5 8.5l.94-2.06 2.06-.94-2.06-.94L8.5 2.5l-.94 2.06-2.06.94zm10 10l.94 2.06.94-2.06 2.06-.94-2.06-.94-.94-2.06-.94 2.06-2.06.94z\"/><path d=\"M17.41 7.96l-1.37-1.37c-.4-.4-.92-.59-1.43-.59-.52 0-1.04.2-1.43.59L10.3 9.45l-7.72 7.72c-.78.78-.78 2.05 0 2.83L4 21.41c.39.39.9.59 1.41.59.51 0 1.02-.2 1.41-.59l7.78-7.78 2.81-2.81c.8-.78.8-2.07 0-2.86zM5.41 20L4 18.59l7.72-7.72 1.47 1.35L5.41 20z\"/>\n",
              "  </svg>\n",
              "      </button>\n",
              "      \n",
              "  <style>\n",
              "    .colab-df-container {\n",
              "      display:flex;\n",
              "      flex-wrap:wrap;\n",
              "      gap: 12px;\n",
              "    }\n",
              "\n",
              "    .colab-df-convert {\n",
              "      background-color: #E8F0FE;\n",
              "      border: none;\n",
              "      border-radius: 50%;\n",
              "      cursor: pointer;\n",
              "      display: none;\n",
              "      fill: #1967D2;\n",
              "      height: 32px;\n",
              "      padding: 0 0 0 0;\n",
              "      width: 32px;\n",
              "    }\n",
              "\n",
              "    .colab-df-convert:hover {\n",
              "      background-color: #E2EBFA;\n",
              "      box-shadow: 0px 1px 2px rgba(60, 64, 67, 0.3), 0px 1px 3px 1px rgba(60, 64, 67, 0.15);\n",
              "      fill: #174EA6;\n",
              "    }\n",
              "\n",
              "    [theme=dark] .colab-df-convert {\n",
              "      background-color: #3B4455;\n",
              "      fill: #D2E3FC;\n",
              "    }\n",
              "\n",
              "    [theme=dark] .colab-df-convert:hover {\n",
              "      background-color: #434B5C;\n",
              "      box-shadow: 0px 1px 3px 1px rgba(0, 0, 0, 0.15);\n",
              "      filter: drop-shadow(0px 1px 2px rgba(0, 0, 0, 0.3));\n",
              "      fill: #FFFFFF;\n",
              "    }\n",
              "  </style>\n",
              "\n",
              "      <script>\n",
              "        const buttonEl =\n",
              "          document.querySelector('#df-a354d255-ffa2-407c-a6bf-9290347fabce button.colab-df-convert');\n",
              "        buttonEl.style.display =\n",
              "          google.colab.kernel.accessAllowed ? 'block' : 'none';\n",
              "\n",
              "        async function convertToInteractive(key) {\n",
              "          const element = document.querySelector('#df-a354d255-ffa2-407c-a6bf-9290347fabce');\n",
              "          const dataTable =\n",
              "            await google.colab.kernel.invokeFunction('convertToInteractive',\n",
              "                                                     [key], {});\n",
              "          if (!dataTable) return;\n",
              "\n",
              "          const docLinkHtml = 'Like what you see? Visit the ' +\n",
              "            '<a target=\"_blank\" href=https://colab.research.google.com/notebooks/data_table.ipynb>data table notebook</a>'\n",
              "            + ' to learn more about interactive tables.';\n",
              "          element.innerHTML = '';\n",
              "          dataTable['output_type'] = 'display_data';\n",
              "          await google.colab.output.renderOutput(dataTable, element);\n",
              "          const docLink = document.createElement('div');\n",
              "          docLink.innerHTML = docLinkHtml;\n",
              "          element.appendChild(docLink);\n",
              "        }\n",
              "      </script>\n",
              "    </div>\n",
              "  </div>\n",
              "  "
            ]
          },
          "metadata": {},
          "execution_count": 81
        }
      ],
      "source": [
        "# load data\n",
        "accounts_receivables = pd.read_csv('/content/Accounts-Receivable.csv')\n",
        "# dropping country code and invoice number column cause it doesn't provide meaningful insights\n",
        "accounts_receivables = accounts_receivables.drop('countryCode', axis=1)\n",
        "accounts_receivables = accounts_receivables.drop('invoiceNumber', axis=1)\n",
        "# describe dataset\n",
        "accounts_receivables.describe()"
      ]
    },
    {
      "cell_type": "markdown",
      "source": [
        "# Data Summary\n",
        "**Value**\n",
        "\n",
        "From our data we can see that the average value of invoices in arrears is 60 dollars with the maximum and minimum being 128 and 5 dollars respectively.\n",
        "\n",
        "**DaysLate**\n",
        "\n",
        "The invoices are in arrears for an average of 3.44. The longest being 45 days and shortest being 0 days. \n",
        "\n",
        "**Settlement**\n",
        "\n",
        "It takes on average 26.45 days for an invoice to be settled. 75 days being the lonngest its taken to settle and 0 days being the minimu meaning inivoice was paid on date of delivery"
      ],
      "metadata": {
        "id": "64jO2JCtbjN1"
      }
    },
    {
      "cell_type": "code",
      "source": [
        "# create a new column to label all earlypayment before duedate\n",
        "# convert the date columns to datetime format\n",
        "accounts_receivables['InvoiceDate'] = pd.to_datetime(accounts_receivables['InvoiceDate'])\n",
        "accounts_receivables['DueDate'] = pd.to_datetime(accounts_receivables['DueDate'])\n",
        "accounts_receivables['SettledDate'] = pd.to_datetime(accounts_receivables['SettledDate'])\n",
        "\n",
        "# create a new column 'earlypayment' with default value 0\n",
        "accounts_receivables['earlypayment'] = 0\n",
        "\n",
        "# find all items with SettledDate paid before DueDate and set 'earlypayment' to 1\n",
        "accounts_receivables.loc[accounts_receivables['SettledDate'] < accounts_receivables['DueDate'], 'earlypayment'] = 1"
      ],
      "metadata": {
        "id": "EuDTAcN44TNf"
      },
      "execution_count": 82,
      "outputs": []
    },
    {
      "cell_type": "code",
      "source": [
        "# Calculate percentage of early payments\n",
        "num_early_payments = len(accounts_receivables[accounts_receivables['earlypayment'] == 1])\n",
        "not_due_payments = len(accounts_receivables[(accounts_receivables['earlypayment'] == 0) &\n",
        "                                            (accounts_receivables['DaysLate'] == 0) & \n",
        "                                            (accounts_receivables['DaysToSettle'] > 0)])\n",
        "late_payments = len(accounts_receivables[accounts_receivables['DaysToSettle'] > 30])\n",
        "total_payments = num_early_payments + not_due_payments + late_payments\n",
        "early_payment_percentage = (num_early_payments / total_payments) * 100\n",
        "late_payments_percentage = (late_payments/total_payments) * 100\n",
        "not_due_percentage = (not_due_payments / total_payments) * 100\n",
        "# Create a pie chart showing the percentage of early payments\n",
        "labels = ['Early Payments', 'Late Payments', 'Not Due']\n",
        "sizes = [early_payment_percentage, early_payment_percentage, not_due_percentage]\n",
        "colors = ['green', 'red', 'blue']\n",
        "plt.pie(sizes, labels=labels, colors=colors, autopct='%1.1f%%')\n",
        "plt.title('Percentage of Payments by Status')\n",
        "plt.axis('equal')\n",
        "plt.show()"
      ],
      "metadata": {
        "colab": {
          "base_uri": "https://localhost:8080/",
          "height": 434
        },
        "id": "hOfp6Ooq5TfZ",
        "outputId": "1a77b543-708a-4b50-9088-cb3b2a607581"
      },
      "execution_count": 49,
      "outputs": [
        {
          "output_type": "display_data",
          "data": {
            "text/plain": [
              "<Figure size 640x480 with 1 Axes>"
            ],
            "image/png": "[encoded data removed]"
          },
          "metadata": {}
        }
      ]
    },
    {
      "cell_type": "code",
      "source": [
        "# calculating total amounts overdue receivables and putting them in buckets\n",
        "# buckets amounts are <7 days = buc1, <= 14 days = buc2 and >14 days = buc3\n",
        "# getting value for each dispute category for each bucket\n",
        "# bucket1\n",
        "yes_buc1_disputes = accounts_receivables[(accounts_receivables['DaysLate'] < 7) & \n",
        "                                         (accounts_receivables['Disputed'] == 'Yes')][['InvoiceAmount']]\n",
        "no_buc1_disputes = accounts_receivables[(accounts_receivables['DaysLate'] < 7) & \n",
        "                                         (accounts_receivables['Disputed'] == 'No')][['InvoiceAmount']]\n",
        "# bucket2\n",
        "yes_buc2_disputes = accounts_receivables[(accounts_receivables['DaysLate'] > 7) & (accounts_receivables['DaysLate'] <=14) \n",
        "                                         & (accounts_receivables['Disputed'] == 'Yes')][['InvoiceAmount']]\n",
        "no_buc2_disputes = accounts_receivables[(accounts_receivables['DaysLate'] > 7) & (accounts_receivables['DaysLate'] <=14) \n",
        "                                         & (accounts_receivables['Disputed'] == 'No')][['InvoiceAmount']]\n",
        "# bucket3\n",
        "yes_buc3_disputes = accounts_receivables[(accounts_receivables['DaysLate'] > 14) & \n",
        "                                         (accounts_receivables['Disputed'] == 'Yes')][['InvoiceAmount']]\n",
        "no_buc3_disputes = accounts_receivables[(accounts_receivables['DaysLate'] > 14) & \n",
        "                                         (accounts_receivables['Disputed'] == 'No')][['InvoiceAmount']]\n",
        "# Calculate total amount for each group\n",
        "yes_amounts = sum((yes_buc1_disputes.sum()[0], yes_buc2_disputes.sum()[0], yes_buc3_disputes.sum()[0]))\n",
        "no_amounts = sum((no_buc1_disputes.sum()[0], no_buc2_disputes.sum()[0], no_buc3_disputes.sum()[0]))\n",
        "\n",
        "buc1_no_percen = round((no_buc1_disputes.sum() / no_amounts), 2)\n",
        "buc2_no_percen = round((no_buc2_disputes.sum() / no_amounts), 2)\n",
        "buc3_no_percen = round((no_buc3_disputes.sum() / no_amounts), 2)\n",
        "\n",
        "buc1_yes_percen = round((yes_buc1_disputes.sum() / yes_amounts), 2)\n",
        "buc2_yes_percen = round((yes_buc2_disputes.sum() / yes_amounts), 2)\n",
        "buc3_yes_percen = round((yes_buc3_disputes.sum() / yes_amounts), 2)\n",
        "\n",
        "\n",
        "# get percentages\n",
        "buc1_tot = yes_buc1_disputes.sum() + no_buc1_disputes.sum()\n",
        "buc2_tot = yes_buc2_disputes.sum() + no_buc2_disputes.sum() \n",
        "buc3_tot = yes_buc3_disputes.sum() + no_buc3_disputes.sum()  \n",
        "buc1_disputed_percentage = round((yes_buc1_disputes.sum() / buc1_tot) * 100, 2)\n",
        "buc1_notdisputed_percentage = round(no_buc1_disputes.sum() / buc1_tot * 100, 2)\n",
        "buc2_disputed_percentage = round(yes_buc2_disputes.sum() / buc2_tot * 100, 2)\n",
        "buc2_notdisputed_percentage = round(no_buc2_disputes.sum() / buc2_tot * 100, 2)\n",
        "buc3_disputed_percentage = round(yes_buc3_disputes.sum() / buc3_tot * 100, 2)\n",
        "buc3_notdisputed_percentage = round(no_buc3_disputes.sum() / buc3_tot * 100, 2)\n",
        "# Plot the data\n",
        "fig, ax = plt.subplots(figsize=(8,6))\n",
        "ind = [1,2,3]\n",
        "width = 0.35\n",
        "p1 = ax.bar(ind, yes_amounts, width)\n",
        "p2 = ax.bar(ind, no_amounts, width, bottom=yes_amounts)\n",
        "\n",
        "# Add labels and titles\n",
        "ax.set_xticks(ind)\n",
        "ax.set_xticklabels(['Bucket 1', 'Bucket 2', 'Bucket 3'])\n",
        "ax.set_ylabel('Amount')\n",
        "ax.set_title('Disputed vs. Undisputed Amounts by Bucket')\n",
        "ax.legend((p1[0], p2[0]), ('Disputed', 'Undisputed'))\n",
        "\n",
        "plt.show()\n",
        "\n",
        "print('Bucket1: Value disputed in dollars {0} ({1}%),  Undisputed value in dollars {2} ({3}%),\\n'\n",
        "      'Bucket2: Value disputed in dollars {4} ({5}%),  Undisputed value in dollars {6} ({7}%),\\n' \n",
        "      'Bucket3: Value disputed in dollars {8} ({9}%),  Undisputed value in dollars {10} ({11}%),\\n'.format(\n",
        "    int(yes_buc1_disputes.sum()),int(buc1_disputed_percentage), int(no_buc1_disputes.sum()), int(buc1_notdisputed_percentage), \n",
        "    int(yes_buc2_disputes.sum()),int(buc2_disputed_percentage), int(no_buc2_disputes.sum()), int(buc2_notdisputed_percentage),\n",
        "    int(yes_buc3_disputes.sum()),int(buc3_disputed_percentage), int(no_buc3_disputes.sum()), int(buc3_notdisputed_percentage)))\n",
        "\n",
        "\n",
        "print('Total value under dispute {},\\n Total value under no dispute {}'.format(int(yes_amounts), int(no_amounts)))\n",
        "\n",
        "\n",
        "print(\"No Disputes:\")\n",
        "print(f\"Bucket 1: {buc1_no_percen[0]:.2%}\")\n",
        "print(f\"Bucket 2: {buc2_no_percen[0]:.2%}\")\n",
        "print(f\"Bucket 3: {buc3_no_percen[0]:.2%}\")\n",
        "\n",
        "print(\"Disputes:\")\n",
        "print(f\"Bucket 1: {buc1_yes_percen[0]:.2%}\")\n",
        "print(f\"Bucket 2: {buc2_yes_percen[0]:.2%}\")\n",
        "print(f\"Bucket 3: {buc3_yes_percen[0]:.2%}\")\n",
        "\n",
        "\n",
        "\n",
        "\n"
      ],
      "metadata": {
        "id": "Z_woxB5_Lt2J",
        "colab": {
          "base_uri": "https://localhost:8080/",
          "height": 788
        },
        "outputId": "a88e7869-088a-4f1d-aacf-207d2a7ec6a8"
      },
      "execution_count": 76,
      "outputs": [
        {
          "output_type": "display_data",
          "data": {
            "text/plain": [
              "<Figure size 800x600 with 1 Axes>"
            ],
            "image/png": "[encoded data removed]"
          },
          "metadata": {}
        },
        {
          "output_type": "stream",
          "name": "stdout",
          "text": [
            "Bucket1: Value disputed in dollars 18598 (16%),  Undisputed value in dollars 97642 (84%),\n",
            "Bucket2: Value disputed in dollars 7646 (47%),  Undisputed value in dollars 8403 (52%),\n",
            "Bucket3: Value disputed in dollars 8975 (72%),  Undisputed value in dollars 3331 (27%),\n",
            "\n",
            "Total value under dispute 35220,\n",
            " Total value under no dispute 109377\n",
            "No Disputes:\n",
            "Bucket 1: 89.00%\n",
            "Bucket 2: 8.00%\n",
            "Bucket 3: 3.00%\n",
            "Disputes:\n",
            "Bucket 1: 53.00%\n",
            "Bucket 2: 22.00%\n",
            "Bucket 3: 25.00%\n"
          ]
        }
      ]
    },
    {
      "cell_type": "markdown",
      "source": [
        "# Disputed and Undisputed Claims\n",
        "This section analyses the accounts receivables entries. It places the receivables in 3 buckets:\n",
        "\n",
        "\n",
        "1. Bucket1 - receivables less than 7 days in arrears\n",
        "2. Bucket2 - receivables in arrears for more than 7 days but less than 14 days\n",
        "3. Bucket3 - receivables in arrears for over 14 days\n",
        "\n",
        "We can see that the total value of *AR * under no dispute is 109,377 (75.64%) and under disputed *AR * valued at 35220(24.36%). \n",
        "\n",
        "***Disputed Arrears***\n",
        "\n",
        "The value of invoices under disputed *AR * is valued at 35220(24.36% of total value).\n",
        "we can see that according to the breakdown that :\n",
        "Bucket 1: 53.00%\n",
        "Bucket 2: 22.00%\n",
        "Bucket 3: 25.00%\n",
        "\n",
        "Further analysis would be required to see how many of those arrears in bucket1 that account for 53% of total disputed claims have been contacted in regards to the disputes which may be discrepancies about price, quantity, terms of sale and warranties. \n",
        "Determining the category of the dispute and the department that “owns” it. For instance, if the problem is pricing, is sales or order processing the culprit? If it’s quality, is manufacturing or shipping causing the issue. \n",
        "\n",
        "More data would be required to calculate the conversion rate, the  turning of these disputed claims to payments for each bucket and the decay rate of each of the uresolved claims from one bucket to another. \n",
        "\n",
        "***Undisputed Arrears***\n",
        "\n",
        "The total value of *AR * under no dispute is 109,377 (75.64%). The breakdown is as follows:\n",
        "Bucket 1: 89.00%\n",
        "Bucket 2: 8.00%\n",
        "Bucket 3: 3.00%\n",
        "\n",
        "The focus with undisputed arrears should always be on getting them paid right away. Majority 89% lie in bucket 1. Key issues to investigate would be on the invoicing, when it's done, communication with clients to get feedback on payment delay,.  It would also be prudent to get data on the payment history of each of the customers in this bucket and model it to predict the credit default probabiity of every single one and forecast how this would affect the  cashflows and expected payments(cf) from the buckets.\n"
      ],
      "metadata": {
        "id": "m5yjjjZwCthO"
      }
    },
    {
      "cell_type": "code",
      "source": [
        "# Logistic regression to determine how well amount, disputed, type of bill predict early payment\n",
        "\n",
        "# convert 'Disputed'and 'PaperlessBill' columns into numerical form\n",
        "accounts_receivables['Disputed'] = accounts_receivables['Disputed'].apply(lambda x: 1 if x=='Yes' else 0)\n",
        "accounts_receivables['PaperlessBill'] = accounts_receivables['PaperlessBill'].apply(lambda x: 1 if x=='Electronic' else 0)\n",
        "\n",
        "# Define the features and target variable\n",
        "X = accounts_receivables[['InvoiceAmount', 'Disputed', 'PaperlessBill', 'DaysLate']]\n",
        "y = accounts_receivables['earlypayment']\n",
        "# Split the data into training and testing sets\n",
        "X_train, X_test, y_train, y_test = train_test_split(X, y, test_size=0.3, random_state=42)\n",
        "\n",
        "# Create a linear regression model object\n",
        "lr_model = LinearRegression()\n",
        "\n",
        "# Fit the model to the training data\n",
        "lr_model.fit(X_train, y_train)\n",
        "\n",
        "# Predict the target variable using the testing data\n",
        "y_pred = lr_model.predict(X_test)\n",
        "\n",
        "# Evaluate the model using mean squared error\n",
        "mse = mean_squared_error(y_test, y_pred)\n",
        "print(\"Logistic Regression mean squared error: {:.2f}\".format(mse))\n",
        "\n",
        "\n",
        "# cross validation\n",
        "# Use cross-validation to evaluate the model\n",
        "scores = cross_val_score(lr_model , X, y, cv=12, scoring='neg_mean_squared_error')\n",
        "mse_scores = -scores\n",
        "# r2 squared to explain the variance between independent and dependent vars\n",
        "# score of 100 or 1 indicates model explains the variance between the vars\n",
        "R_score = r2_score(y_test, y_pred)\n",
        "print(\"R Squared score: {}\".format(R_score))\n",
        "# Calculate mean absolute error (MAE)\n",
        "mae = mean_absolute_error(y_test, y_pred)\n",
        "print(\"Mean absolute error: {:.2f}\".format(mae))\n",
        "# Print the mean squared error scores for each fold\n",
        "print(mse_scores)\n",
        "print(\"Cross validated Mean MSE:\", mse_scores.mean())\n"
      ],
      "metadata": {
        "id": "r3pFkx_jA2B0",
        "colab": {
          "base_uri": "https://localhost:8080/"
        },
        "outputId": "03573179-060e-4007-e4f9-35f6e3a31ffe"
      },
      "execution_count": 40,
      "outputs": [
        {
          "output_type": "stream",
          "name": "stdout",
          "text": [
            "Logistic Regression mean squared error: 0.13\n",
            "R Squared score: 0.4672800179959947\n",
            "Mean absolute error: 0.30\n",
            "[0.12645787 0.12714297 0.14156269 0.12721143 0.13207845 0.12259188\n",
            " 0.13319277 0.11645496 0.12437501 0.13466656 0.1101104  0.12319847]\n",
            "Cross validated Mean MSE: 0.12658695507734907\n"
          ]
        }
      ]
    },
    {
      "cell_type": "markdown",
      "source": [
        "# Linear Regression\n",
        "\n",
        "The mean squared error (MSE) of 0.13 and the R-squared\n",
        "score of 0.467, show that the linear regression model \n",
        "provides a moderate fit for predicting the dependent variable earlypayment.\n",
        "\n",
        "The R-squared score of 0.467 suggests that the  independent variables explain approximately 47% of the variance in the dependent variable, indicating that there may be other important factors affecting early payment by customers which have not been included in this dataset such.\n",
        "\n",
        "When cross-validating the model using a 12-fold cross-validation approach, the average MSE of 0.1265 is relatively consistent with the initial MSE, indicating that the model is not overfitting the training data.\n",
        "\n",
        "The mean absolute error (MAE) of 0.30 suggests that the model's predictions are, on average, off by 30% in terms of early payment prediction.\n",
        "\n",
        "Overall, this model provides a moderate fit for predicting early payments based on the given independent variables, but additional data points or more complex models may be necessary to improve the accuracy of the prediction including the use of hyperparameters which will not be explored in this project."
      ],
      "metadata": {
        "id": "tsJP-jrQ-Exr"
      }
    }
  ]
}